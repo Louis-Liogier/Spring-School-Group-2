{
 "cells": [
  {
   "cell_type": "code",
   "execution_count": 23,
   "metadata": {},
   "outputs": [],
   "source": [
    "import bw_temporalis\n",
    "import bw_graph_tools\n",
    "import bw2io, bw2data, bw2calc"
   ]
  },
  {
   "cell_type": "code",
   "execution_count": 3,
   "metadata": {},
   "outputs": [],
   "source": [
    "bw2data.projects.set_current(\"test_graph_tools\")"
   ]
  },
  {
   "cell_type": "code",
   "execution_count": 4,
   "metadata": {},
   "outputs": [
    {
     "name": "stdout",
     "output_type": "stream",
     "text": [
      "Creating default biosphere\n",
      "\n",
      "Applying strategy: normalize_units\n",
      "Applying strategy: drop_unspecified_subcategories\n",
      "Applying strategy: ensure_categories_are_tuples\n",
      "Applied 3 strategies in 0.00 seconds\n"
     ]
    },
    {
     "name": "stderr",
     "output_type": "stream",
     "text": [
      "100%|██████████| 4709/4709 [00:00<00:00, 52145.32it/s]"
     ]
    },
    {
     "name": "stdout",
     "output_type": "stream",
     "text": [
      "Vacuuming database \n"
     ]
    },
    {
     "name": "stderr",
     "output_type": "stream",
     "text": [
      "\n"
     ]
    },
    {
     "name": "stdout",
     "output_type": "stream",
     "text": [
      "Created database: biosphere3\n",
      "Creating default LCIA methods\n",
      "\n",
      "Wrote 762 LCIA methods with 227223 characterization factors\n",
      "Creating core data migrations\n",
      "\n"
     ]
    }
   ],
   "source": [
    "bw2io.bw2setup()"
   ]
  },
  {
   "cell_type": "code",
   "execution_count": 5,
   "metadata": {},
   "outputs": [
    {
     "data": {
      "text/plain": [
       "Methods dictionary with 762 objects, including:\n",
       "\t('CML v4.8 2016', 'acidification', 'acidification (incl. fate, average Europe total, A&B)')\n",
       "\t('CML v4.8 2016', 'climate change', 'global warming potential (GWP100)')\n",
       "\t('CML v4.8 2016', 'ecotoxicity: freshwater', 'freshwater aquatic ecotoxicity (FAETP inf)')\n",
       "\t('CML v4.8 2016', 'ecotoxicity: marine', 'marine aquatic ecotoxicity (MAETP inf)')\n",
       "\t('CML v4.8 2016', 'ecotoxicity: terrestrial', 'terrestrial ecotoxicity (TETP inf)')\n",
       "\t('CML v4.8 2016', 'energy resources: non-renewable', 'abiotic depletion potential (ADP): fossil fuels')\n",
       "\t('CML v4.8 2016', 'eutrophication', 'eutrophication (fate not incl.)')\n",
       "\t('CML v4.8 2016', 'human toxicity', 'human toxicity (HTP inf)')\n",
       "\t('CML v4.8 2016', 'material resources: metals/minerals', 'abiotic depletion potential (ADP): elements (ultimate reserves)')\n",
       "\t('CML v4.8 2016', 'ozone depletion', 'ozone layer depletion (ODP steady state)')\n",
       "Use `list(this object)` to get the complete list."
      ]
     },
     "execution_count": 5,
     "metadata": {},
     "output_type": "execute_result"
    }
   ],
   "source": [
    "bw2data.methods"
   ]
  },
  {
   "cell_type": "code",
   "execution_count": 6,
   "metadata": {},
   "outputs": [
    {
     "name": "stdout",
     "output_type": "stream",
     "text": [
      "Extracting XML data from 21238 datasets\n",
      "Extracted 21238 datasets in 57.66 seconds\n",
      "Applying strategy: normalize_units\n",
      "Applying strategy: update_ecoinvent_locations\n",
      "Applying strategy: remove_zero_amount_coproducts\n",
      "Applying strategy: remove_zero_amount_inputs_with_no_activity\n",
      "Applying strategy: remove_unnamed_parameters\n",
      "Applying strategy: es2_assign_only_product_with_amount_as_reference_product\n",
      "Applying strategy: assign_single_product_as_activity\n",
      "Applying strategy: create_composite_code\n",
      "Applying strategy: drop_unspecified_subcategories\n",
      "Applying strategy: fix_ecoinvent_flows_pre35\n",
      "Applying strategy: drop_temporary_outdated_biosphere_flows\n",
      "Applying strategy: link_biosphere_by_flow_uuid\n",
      "Applying strategy: link_internal_technosphere_by_composite_code\n",
      "Applying strategy: delete_exchanges_missing_activity\n",
      "Applying strategy: delete_ghost_exchanges\n",
      "Applying strategy: remove_uncertainty_from_negative_loss_exchanges\n",
      "Applying strategy: fix_unreasonably_high_lognormal_uncertainties\n",
      "Applying strategy: convert_activity_parameters_to_list\n",
      "Applying strategy: add_cpc_classification_from_single_reference_product\n",
      "Applying strategy: delete_none_synonyms\n",
      "Applying strategy: update_social_flows_in_older_consequential\n",
      "Applying strategy: set_lognormal_loc_value\n",
      "Applied 22 strategies in 3.98 seconds\n",
      "21238 datasets\n",
      "674593 exchanges\n",
      "0 unlinked exchanges\n",
      "  \n",
      "Not able to determine geocollections for all datasets. This database is not ready for regionalization.\n"
     ]
    },
    {
     "name": "stderr",
     "output_type": "stream",
     "text": [
      "100%|██████████| 21238/21238 [02:17<00:00, 154.19it/s]\n"
     ]
    },
    {
     "name": "stdout",
     "output_type": "stream",
     "text": [
      "Vacuuming database \n",
      "Created database: ecoinvent 3.9.1 cutoff\n"
     ]
    }
   ],
   "source": [
    "# file path to the place with the ecoinvent spold files (datasets directory)\n",
    "fpei39 = \"/etc/data/ecospold/datasets\"\n",
    "if 'ecoinvent 3.9.1 cutoff' in bw2data.databases:\n",
    "    print(\"Database has already been imported\")\n",
    "    #del bw2data.databases[\"ecoinvent 3.9.1 cutoff\"]\n",
    "else:\n",
    "    ei39 = bw2io.SingleOutputEcospold2Importer(fpei39, 'ecoinvent 3.9.1 cutoff')\n",
    "    ei39.apply_strategies()\n",
    "    ei39.statistics()\n",
    "\n",
    "    if len(list(ei39.unlinked)) == 0:\n",
    "        ei39.write_database()"
   ]
  },
  {
   "cell_type": "code",
   "execution_count": 7,
   "metadata": {},
   "outputs": [],
   "source": [
    "ei39 = None "
   ]
  },
  {
   "cell_type": "code",
   "execution_count": 8,
   "metadata": {},
   "outputs": [
    {
     "data": {
      "text/plain": [
       "Databases dictionary with 2 object(s):\n",
       "\tbiosphere3\n",
       "\tecoinvent 3.9.1 cutoff"
      ]
     },
     "execution_count": 8,
     "metadata": {},
     "output_type": "execute_result"
    }
   ],
   "source": [
    "bw2data.databases"
   ]
  },
  {
   "cell_type": "code",
   "execution_count": 15,
   "metadata": {},
   "outputs": [
    {
     "data": {
      "text/plain": [
       "Brightway2 Method: IPCC 2021: climate change: global warming potential (GWP100)"
      ]
     },
     "execution_count": 15,
     "metadata": {},
     "output_type": "execute_result"
    }
   ],
   "source": [
    "ipcc = bw2data.Method(('IPCC 2021',\n",
    "  'climate change',\n",
    "  'global warming potential (GWP100)'))\n",
    "ipcc"
   ]
  },
  {
   "cell_type": "code",
   "execution_count": 17,
   "metadata": {},
   "outputs": [
    {
     "data": {
      "text/plain": [
       "Brightway2 SQLiteBackend: ecoinvent 3.9.1 cutoff"
      ]
     },
     "execution_count": 17,
     "metadata": {},
     "output_type": "execute_result"
    }
   ],
   "source": [
    "ei = bw2data.Database(\"ecoinvent 3.9.1 cutoff\")\n",
    "ei"
   ]
  },
  {
   "cell_type": "code",
   "execution_count": 19,
   "metadata": {},
   "outputs": [
    {
     "data": {
      "text/plain": [
       "'electricity production, hard coal' (kilowatt hour, DE, None)"
      ]
     },
     "execution_count": 19,
     "metadata": {},
     "output_type": "execute_result"
    }
   ],
   "source": [
    "act = [\n",
    "    a for a in ei\n",
    "    if \"electricity production\" in a[\"name\"]\n",
    "    and \"coal\" in a[\"name\"]\n",
    "    and a[\"location\"] == \"DE\"\n",
    "][0]\n",
    "act"
   ]
  },
  {
   "cell_type": "code",
   "execution_count": 24,
   "metadata": {},
   "outputs": [],
   "source": [
    "lca = bw2calc.LCA({act: 1}, method=ipcc.name)"
   ]
  },
  {
   "cell_type": "code",
   "execution_count": 25,
   "metadata": {},
   "outputs": [
    {
     "data": {
      "text/plain": [
       "1.0545383946413858"
      ]
     },
     "execution_count": 25,
     "metadata": {},
     "output_type": "execute_result"
    }
   ],
   "source": [
    "lca.lci()\n",
    "lca.lcia()\n",
    "lca.score"
   ]
  },
  {
   "cell_type": "code",
   "execution_count": 49,
   "metadata": {},
   "outputs": [],
   "source": [
    "from bw_graph_tools import NewNodeEachVisitGraphTraversal\n",
    "a=NewNodeEachVisitGraphTraversal.calculate(lca, cutoff=0.01)\n"
   ]
  },
  {
   "cell_type": "code",
   "execution_count": 62,
   "metadata": {},
   "outputs": [
    {
     "data": {
      "text/plain": [
       "{'comment': 'This dataset has been created as a copy of the dataset for Europe (RER). Production volumes have been adjusted.\\nThis dataset represents the treatment of blast furnace gas in an unspecified gas power plant with high voltage electricity and heat as by-product worldwide in 2012. \\nAccording to IEA (2008), blast furnace gas is obtained as a by-product in operating blast furnaces; recovered on leaving the furnace and used partly within the plant and partly in other steel industry processes or used in power stations equipped to burn it.\\nThe efficiency calculations are based on IEA/OECD statistics (fuel inputs, electricity produced). No exergy correction could be made due to incomplete data (see ecoinvent report \"Erdgas\" p. 128 for details).\\nWater is used for wet cooling and as feed water in the steam circuit. In this dataset, 100% wet cooling and no once-through cooling is assumed.  \\nEMISSIONS:\\nEmission data have partly been overtaken from a dataset representing the production of electricity in a natural gas power plant. Data have partly been adapted to the different composition of natural gas and blast furnace gas (see tab. 11.16 in ecoinvent report \"Erdgas\").\\nDifferent sources served as basis for assumption of average emissions. Where possible, the most recent sources were taken into account, whereas older sources were taken in order to determine the remaining data gaps. The emissions have been fixed for the former UCTE region* and have been overtaken as such for all countries without value adaptation (adaptation of the uncertainty). See ecoinvent report \"Erdgas\" given as main source for details (Tab. 11.15 and tab. 11.18). In the following a short overview:\\n - Emissions of NOx, CO, CO2, SO2, particles, N2O and CH4 are mainly taken from CORINAIR 2001, Rentz et al. 2002, and Swedish EPA 2000 (see tab. 11.1) and are basically valid for European countries.\\n-\\tNOx emissions are a major challenge in natural gas power plants. With rising temperature, emissions also rise; band widths of NOx emissions in literature are correspondingly large. There are several methods to diminish these emissions.\\n-\\tCO is a result of incomplete burning. For economic and technical reasons, plant combustion is optimized and CO emissions are low. \\n-\\tCO2 and SO2 emissions are depending on the composition of the used fuel.. Due to high shares of CO and CO2 in blast furnace gas, CO2 emissions are relatively high for this type of gas. In contrast, some literature sources assume no sulfur in blast furnace gas, so that SO2 emissions are very low in this dataset. \\n-\\tOrganic compound emissions are estimated on the basis of EPA 1998. \\n-\\tParticles are assumed to be smaller than 2.5 micro-m\\nSources:\\nEMEP/CORINAIR 2001: Joint EMEP/CORINAIR Atmospheric Emission Inventory Guidebook, Third Edition. Copenhagen: European Environment Agency, 2001. http://reports.eea.eu.int/technical_report_2001_3/en.\\nRentz O., Karl U., Peter H. (2002). Ermittlung und Evaluierung von Emissionsfaktoren für Feuerungsanlagen in Deutschland für die Jahre 1995, 2000 und 2010. Deutsch- Französisches Institut für Umweltforschung, Uni Karsruhe. Endbericht. Im Auftrag des Umweltbundesamtes. Forschungsbericht 299 43 142. Umweltbundesamt. Berlin.\\nSwedish EPA (2000) Emission Factors. Swedish Environmental Protection Agency.\\nIEA/OECD. 2008. Coal information 2008. International Energy Agency (IEA), Paris Cedex (FR)\\n*former UCTE: Union for the Coordination of the Transmission of Electricity, since 2009 replaced by ENTSO-E European Network of Transmission System Operators for Electricity.\\n[This dataset is meant to replace the following datasets:]\\nIncluded activities start:  From the blast furnace gas ready to be treated in a gas power plant and from the gas power plant ready to produce electricity.\\nIncluded activities end:  This treatment activity ends with 1MJ of blast furnace gas treated in a gas power plant. \\n\\nThis dataset includes:\\n - the emissions from burning\\n - all operation and maintenance activities and materials of the power plants.\\n - Cooling: It is a assumed that all plants use wet cooling with a cooling tower. No cooling tower is included in this dataset (will be implemented in future versions)\\n\\nThis dataset doesn\"t include \\n - raw materials extraction, decommissioning and waste treatment as these activities are already included in the infrastructure datasets.\\n - transformation of the by-product electricity.\\nTechnology:  A natural gas power plant with a capacity of 100 MW is taken as power plant infrastructure. No combined heat and power or combined cycle power plants are taken into account.\\nTime period:  The annual production volume is valid for the year 2012.',\n",
       " 'classifications': [('ISIC rev.4 ecoinvent',\n",
       "   '3510:Electric power generation, transmission and distribution'),\n",
       "  ('EcoSpold01Categories', 'natural gas/power plants'),\n",
       "  ('CPC', '17100: Electrical energy')],\n",
       " 'activity type': 'ordinary transforming activity',\n",
       " 'activity': '15ffb645-e647-5593-be57-263193e8d817',\n",
       " 'database': 'ecoinvent 3.9.1 cutoff',\n",
       " 'filename': '15ffb645-e647-5593-be57-263193e8d817_66c93e71-f32b-4591-901c-55395db5c132.spold',\n",
       " 'location': 'CN-HA',\n",
       " 'name': 'treatment of blast furnace gas, in power plant',\n",
       " 'synonyms': ['top gas', 'BFG'],\n",
       " 'parameters': [{'description': 'electrical efficiency, country',\n",
       "   'id': '3e06b47e-53a2-4e3b-889d-9dd57fd7a0f0',\n",
       "   'unit': 'dimensionless',\n",
       "   'comment': 'Literature value/calculated value. Net electrical efficiency based on the lower heating value (LHV). \\nFor all OECD countries, the IEA Energy statistics of OECD countries 2014 provides data for the year 2012 on fuel input (TJ, Net calorific value NCV) in CHP plants and electricity plants and gross electricity production (GWh) for each country. Together with the information on own use, the net electrical efficiency based on the NCV is calculated. From the statistics, electricity from coke oven gas is modelled in the dataset \"treatment of coal gas\", while electricity from \"recovered gas (including blast furnace gas and other recovered gas) and gas works gas is modelled with the dataset \"treatment of blast furnace gas\". \\nFor all non-OECD countries, data from the IEA Energy statistics of non-OECD countries 2014 and the IEA electricity information have been used. The energy statistics source provides data on fuel input from coke oven gas (coal gas) as well as recovered gases and gas works gas (modelled as blast furnace gas). The electricity information provides information on total electricity production with \"gases\" (=gas works gas, coke oven gas, blast furnace gas and other recovered gases). This electricity production is allocated to the coal gas and blast furnace gas dataset in ecoinvent based on the fuel input. It cannot be differentiated between electricity only and CHP plants as total values only are given. \\n\\nIEA. 2014. Electricity Information 2014. ISBN 978-92-64-21692-1. International Energy Agency (IEA), Paris Cedex (FR).\\nIEA/OECD. 2014. Energy statistics of non-OECD countries 2014. International Energy Agency (IEA), Paris Cedex (FR). \\nIEA/OECD. 2014. Energy statistics of OECD countries 2014. International Energy Agency (IEA), Paris Cedex (FR).\\n',\n",
       "   'amount': 0.343,\n",
       "   'pedigree': {'reliability': 4,\n",
       "    'completeness': 2,\n",
       "    'temporal correlation': 1,\n",
       "    'geographical correlation': 1,\n",
       "    'further technological correlation': 3},\n",
       "   'uncertainty type': 2,\n",
       "   'loc': -1.07002483182,\n",
       "   'scale': 0.12922847983320085,\n",
       "   'scale without pedigree': 0.02449489742783178,\n",
       "   'name': 'efficiency_electrical_country'},\n",
       "  {'description': 'electrical efficiency, global',\n",
       "   'id': '922f0b48-4565-4e22-956e-3321c15ad425',\n",
       "   'unit': 'dimensionless',\n",
       "   'comment': 'Literature value/calculated value. Net electrical efficiency based on the lower heating value (LHV). \\nFor all OECD countries, the IEA Energy statistics of OECD countries 2014 provides data for the year 2012 on fuel input (TJ, Net calorific value NCV) in CHP plants and electricity plants and gross electricity production (GWh) for each country. Together with the information on own use, the net electrical efficiency based on the NCV is calculated. From the statistics, electricity from coke oven gas is modelled in the dataset \"treatment of coal gas\", while electricity from \"recovered gas (including blast furnace gas and other recovered gas) and gas works gas is modelled with the dataset \"treatment of blast furnace gas\". \\nFor all non-OECD countries, data from the IEA Energy statistics of non-OECD countries 2014 and the IEA electricity information have been used. The energy statistics source provides data on fuel input from coke oven gas (coal gas) as well as recovered gases and gas works gas (modelled as blast furnace gas). The electricity information provides information on total electricity production with \"gases\" (=gas works gas, coke oven gas, blast furnace gas and other recovered gases). This electricity production is allocated to the coal gas and blast furnace gas dataset in ecoinvent based on the fuel input. It cannot be differentiated between electricity only and CHP plants as total values only are given. \\n\\nIEA. 2014. Electricity Information 2014. ISBN 978-92-64-21692-1. International Energy Agency (IEA), Paris Cedex (FR).\\nIEA/OECD. 2014. Energy statistics of non-OECD countries 2014. International Energy Agency (IEA), Paris Cedex (FR). \\nIEA/OECD. 2014. Energy statistics of OECD countries 2014. International Energy Agency (IEA), Paris Cedex (FR).\\n',\n",
       "   'amount': 0.343,\n",
       "   'pedigree': {'reliability': 4,\n",
       "    'completeness': 2,\n",
       "    'temporal correlation': 1,\n",
       "    'geographical correlation': 1,\n",
       "    'further technological correlation': 3},\n",
       "   'uncertainty type': 2,\n",
       "   'loc': -1.07002483182,\n",
       "   'scale': 0.12922847983320085,\n",
       "   'scale without pedigree': 0.02449489742783178,\n",
       "   'name': 'efficiency_electrical_global'},\n",
       "  {'description': \"relation between the global and the country's efficiency\",\n",
       "   'id': 'aed7d610-37a0-4eaa-8512-6c4ee59ef3d8',\n",
       "   'unit': 'dimensionless',\n",
       "   'comment': 'This factor brings the amounts of the exchanges in the global dataset into relation with the amounts in the country datasets.',\n",
       "   'amount': 1.0,\n",
       "   'uncertainty type': 0,\n",
       "   'loc': 1.0,\n",
       "   'name': 'relation_global_country'},\n",
       "  {'description': 'thermal efficiency',\n",
       "   'id': 'c38db7d6-3656-4bef-a12f-7cfae25cbbe2',\n",
       "   'unit': 'dimensionless',\n",
       "   'comment': 'Literature value/calculation for the thermal efficiency. IEA/OECD statistics provided data for OECD countries in total: Fuel input in CHP plants and the electricity and heat output. Not enough detailed data were available for non-OECD countries and/or the whole world, so that for this global dataset, the OECD value was overtaken. Data are for the category \"coal manufactured gases\" including coke oven gas, blast furnace gas and oxygen steel furnace gas. Fuel input data in the statistics are expressed in gross calorific values. Net calorific values are calculated according to IEA/OECD p. I.7 by multiplying the gross heat content with a factor 0.9, taking therefore the lower factor for coke oven gas, corresponding to a worst case scenario (blast furnace gas and oxygen steel furnace gas have a gross to net ratio of 1).\\n\\n\\n\\nIEA/OECD. 2010. Electricity Information 2010. International Energy Agency (IEA), Paris Cedex (FR). Part IV. Detailed OECD Electricity And Heat Data.\\nnan',\n",
       "   'amount': 0.145,\n",
       "   'pedigree': {'reliability': 2,\n",
       "    'completeness': 3,\n",
       "    'temporal correlation': 1,\n",
       "    'geographical correlation': 5,\n",
       "    'further technological correlation': 3},\n",
       "   'uncertainty type': 2,\n",
       "   'loc': -1.93102153656,\n",
       "   'scale': 0.10862780491200216,\n",
       "   'scale without pedigree': 0.02449489742783178,\n",
       "   'name': 'efficiency_thermal'}],\n",
       " 'authors': {'data entry': {'name': 'Karin Treyer',\n",
       "   'email': 'karin.treyer@psi.ch'},\n",
       "  'data generator': {'name': 'Karin Treyer', 'email': 'karin.treyer@psi.ch'}},\n",
       " 'type': 'process',\n",
       " 'reference product': 'electricity, high voltage',\n",
       " 'flow': '66c93e71-f32b-4591-901c-55395db5c132',\n",
       " 'unit': 'kilowatt hour',\n",
       " 'production amount': 1.0,\n",
       " 'code': 'bd6fa541300306fa37217cf777e89e30',\n",
       " 'id': 15001}"
      ]
     },
     "execution_count": 62,
     "metadata": {},
     "output_type": "execute_result"
    }
   ],
   "source": [
    "ei.random().as_dict()"
   ]
  },
  {
   "cell_type": "code",
   "execution_count": 50,
   "metadata": {},
   "outputs": [
    {
     "data": {
      "text/plain": [
       "{'nodes': {-1: Node(unique_id=-1, activity_datapackage_id=-1, activity_index=-1, reference_product_datapackage_id=-1, reference_product_index=-1, reference_product_production_amount=1.0, supply_amount=1.0, cumulative_score=1.0545383946413858, direct_emissions_score=0.0),\n",
       "  0: Node(unique_id=0, activity_datapackage_id=21734, activity_index=17024, reference_product_datapackage_id=21734, reference_product_index=17024, reference_product_production_amount=1.0, supply_amount=1.0, cumulative_score=1.0545383946413869, direct_emissions_score=0.9006140940054727),\n",
       "  1: Node(unique_id=1, activity_datapackage_id=6456, activity_index=1746, reference_product_datapackage_id=6456, reference_product_index=1746, reference_product_production_amount=0.9988477826118469, supply_amount=0.4029307397681748, cumulative_score=0.14379674811351298, direct_emissions_score=0.0),\n",
       "  2: Node(unique_id=2, activity_datapackage_id=5567, activity_index=857, reference_product_datapackage_id=5567, reference_product_index=857, reference_product_production_amount=1.0, supply_amount=0.0761873991090291, cumulative_score=0.01610992859583927, direct_emissions_score=0.0),\n",
       "  3: Node(unique_id=3, activity_datapackage_id=10104, activity_index=5394, reference_product_datapackage_id=10104, reference_product_index=5394, reference_product_production_amount=1.0, supply_amount=0.1150747163410303, cumulative_score=0.04370877696733249, direct_emissions_score=0.041507356941375056),\n",
       "  4: Node(unique_id=4, activity_datapackage_id=11049, activity_index=6339, reference_product_datapackage_id=11049, reference_product_index=6339, reference_product_production_amount=1.0, supply_amount=0.047352584466797305, cumulative_score=0.011742666928769817, direct_emissions_score=0.0),\n",
       "  5: Node(unique_id=5, activity_datapackage_id=20323, activity_index=15613, reference_product_datapackage_id=20323, reference_product_index=15613, reference_product_production_amount=1.0, supply_amount=0.09933460988870202, cumulative_score=0.04064332742085446, direct_emissions_score=0.0),\n",
       "  6: Node(unique_id=6, activity_datapackage_id=25553, activity_index=20843, reference_product_datapackage_id=25553, reference_product_index=20843, reference_product_production_amount=0.9978477954864502, supply_amount=0.09974795454868908, cumulative_score=0.032302767117057436, direct_emissions_score=0.0),\n",
       "  7: Node(unique_id=7, activity_datapackage_id=18645, activity_index=13935, reference_product_datapackage_id=18645, reference_product_index=13935, reference_product_production_amount=1.0, supply_amount=0.09974795454868908, cumulative_score=0.02768174337458288, direct_emissions_score=0.019029873947097438)},\n",
       " 'edges': [Edge(consumer_index=-1, consumer_unique_id=-1, producer_index=17024, producer_unique_id=0, product_index=17024, amount=1),\n",
       "  Edge(consumer_index=17024, consumer_unique_id=0, producer_index=1746, producer_unique_id=1, product_index=1746, amount=0.40246647596359253),\n",
       "  Edge(consumer_index=1746, consumer_unique_id=1, producer_index=857, producer_unique_id=2, product_index=857, amount=0.0761873991090291),\n",
       "  Edge(consumer_index=1746, consumer_unique_id=1, producer_index=5394, producer_unique_id=3, product_index=5394, amount=0.1150747163410303),\n",
       "  Edge(consumer_index=1746, consumer_unique_id=1, producer_index=6339, producer_unique_id=4, product_index=6339, amount=0.047352584466797305),\n",
       "  Edge(consumer_index=1746, consumer_unique_id=1, producer_index=15613, producer_unique_id=5, product_index=15613, amount=0.09933460988870202),\n",
       "  Edge(consumer_index=15613, consumer_unique_id=5, producer_index=20843, producer_unique_id=6, product_index=20843, amount=0.09953327655069204),\n",
       "  Edge(consumer_index=20843, consumer_unique_id=6, producer_index=13935, producer_unique_id=7, product_index=13935, amount=0.09974795454868908)],\n",
       " 'flows': [Flow(flow_datapackage_id=1168, flow_index=686, activity_unique_id=0, activity_id=21734, activity_index=17024, amount=0.8898659348487854, score=0.8898659348487854),\n",
       "  Flow(flow_datapackage_id=1649, flow_index=829, activity_unique_id=3, activity_id=10104, activity_index=5394, amount=0.001392864362551887, score=0.041507356941375056),\n",
       "  Flow(flow_datapackage_id=1649, flow_index=829, activity_unique_id=7, activity_id=18645, activity_index=13935, amount=0.000638586390412758, score=0.019029873947097438),\n",
       "  Flow(flow_datapackage_id=4685, flow_index=2397, activity_unique_id=0, activity_id=21734, activity_index=17024, amount=3.831635331152938e-05, score=0.010460364454047522),\n",
       "  Flow(flow_datapackage_id=1649, flow_index=829, activity_unique_id=0, activity_id=21734, activity_index=17024, amount=9.651474101701751e-06, score=0.0002876139208672218)],\n",
       " 'calculation_count': 7}"
      ]
     },
     "execution_count": 50,
     "metadata": {},
     "output_type": "execute_result"
    }
   ],
   "source": [
    "a"
   ]
  },
  {
   "cell_type": "code",
   "execution_count": 61,
   "metadata": {},
   "outputs": [
    {
     "data": {
      "text/plain": [
       "21734"
      ]
     },
     "execution_count": 61,
     "metadata": {},
     "output_type": "execute_result"
    }
   ],
   "source": [
    "a[\"nodes\"][0].activity_datapackage_id"
   ]
  },
  {
   "cell_type": "code",
   "execution_count": 85,
   "metadata": {},
   "outputs": [
    {
     "data": {
      "text/plain": [
       "{'nodes': {-1: Node(unique_id=-1, activity_datapackage_id=-1, activity_index=-1, reference_product_datapackage_id=-1, reference_product_index=-1, reference_product_production_amount=1.0, supply_amount=1.0, cumulative_score=1.0545383946413858, direct_emissions_score=0.0),\n",
       "  0: Node(unique_id=0, activity_datapackage_id=21734, activity_index=17024, reference_product_datapackage_id=21734, reference_product_index=17024, reference_product_production_amount=1.0, supply_amount=1.0, cumulative_score=1.0545383946413869, direct_emissions_score=0.9006140940054727),\n",
       "  1: Node(unique_id=1, activity_datapackage_id=6456, activity_index=1746, reference_product_datapackage_id=6456, reference_product_index=1746, reference_product_production_amount=0.9988477826118469, supply_amount=0.4029307397681748, cumulative_score=0.14379674811351298, direct_emissions_score=0.0),\n",
       "  2: Node(unique_id=2, activity_datapackage_id=5567, activity_index=857, reference_product_datapackage_id=5567, reference_product_index=857, reference_product_production_amount=1.0, supply_amount=0.0761873991090291, cumulative_score=0.01610992859583927, direct_emissions_score=0.0),\n",
       "  3: Node(unique_id=3, activity_datapackage_id=10104, activity_index=5394, reference_product_datapackage_id=10104, reference_product_index=5394, reference_product_production_amount=1.0, supply_amount=0.1150747163410303, cumulative_score=0.04370877696733249, direct_emissions_score=0.041507356941375056),\n",
       "  4: Node(unique_id=4, activity_datapackage_id=11049, activity_index=6339, reference_product_datapackage_id=11049, reference_product_index=6339, reference_product_production_amount=1.0, supply_amount=0.047352584466797305, cumulative_score=0.011742666928769817, direct_emissions_score=0.0),\n",
       "  5: Node(unique_id=5, activity_datapackage_id=20323, activity_index=15613, reference_product_datapackage_id=20323, reference_product_index=15613, reference_product_production_amount=1.0, supply_amount=0.09933460988870202, cumulative_score=0.04064332742085446, direct_emissions_score=0.0),\n",
       "  6: Node(unique_id=6, activity_datapackage_id=25553, activity_index=20843, reference_product_datapackage_id=25553, reference_product_index=20843, reference_product_production_amount=0.9978477954864502, supply_amount=0.09974795454868908, cumulative_score=0.032302767117057436, direct_emissions_score=0.0),\n",
       "  7: Node(unique_id=7, activity_datapackage_id=18645, activity_index=13935, reference_product_datapackage_id=18645, reference_product_index=13935, reference_product_production_amount=1.0, supply_amount=0.09974795454868908, cumulative_score=0.02768174337458288, direct_emissions_score=0.019029873947097438)},\n",
       " 'edges': [Edge(consumer_index=-1, consumer_unique_id=-1, producer_index=17024, producer_unique_id=0, product_index=17024, amount=1),\n",
       "  Edge(consumer_index=17024, consumer_unique_id=0, producer_index=1746, producer_unique_id=1, product_index=1746, amount=0.40246647596359253),\n",
       "  Edge(consumer_index=1746, consumer_unique_id=1, producer_index=857, producer_unique_id=2, product_index=857, amount=0.0761873991090291),\n",
       "  Edge(consumer_index=1746, consumer_unique_id=1, producer_index=5394, producer_unique_id=3, product_index=5394, amount=0.1150747163410303),\n",
       "  Edge(consumer_index=1746, consumer_unique_id=1, producer_index=6339, producer_unique_id=4, product_index=6339, amount=0.047352584466797305),\n",
       "  Edge(consumer_index=1746, consumer_unique_id=1, producer_index=15613, producer_unique_id=5, product_index=15613, amount=0.09933460988870202),\n",
       "  Edge(consumer_index=15613, consumer_unique_id=5, producer_index=20843, producer_unique_id=6, product_index=20843, amount=0.09953327655069204),\n",
       "  Edge(consumer_index=20843, consumer_unique_id=6, producer_index=13935, producer_unique_id=7, product_index=13935, amount=0.09974795454868908)],\n",
       " 'flows': [Flow(flow_datapackage_id=1168, flow_index=686, activity_unique_id=0, activity_id=21734, activity_index=17024, amount=0.8898659348487854, score=0.8898659348487854),\n",
       "  Flow(flow_datapackage_id=1649, flow_index=829, activity_unique_id=3, activity_id=10104, activity_index=5394, amount=0.001392864362551887, score=0.041507356941375056),\n",
       "  Flow(flow_datapackage_id=1649, flow_index=829, activity_unique_id=7, activity_id=18645, activity_index=13935, amount=0.000638586390412758, score=0.019029873947097438),\n",
       "  Flow(flow_datapackage_id=4685, flow_index=2397, activity_unique_id=0, activity_id=21734, activity_index=17024, amount=3.831635331152938e-05, score=0.010460364454047522),\n",
       "  Flow(flow_datapackage_id=1649, flow_index=829, activity_unique_id=0, activity_id=21734, activity_index=17024, amount=9.651474101701751e-06, score=0.0002876139208672218)],\n",
       " 'calculation_count': 7}"
      ]
     },
     "execution_count": 85,
     "metadata": {},
     "output_type": "execute_result"
    }
   ],
   "source": [
    "a"
   ]
  },
  {
   "cell_type": "code",
   "execution_count": 90,
   "metadata": {},
   "outputs": [],
   "source": [
    "nodes_names=[]\n",
    "edges_consumer_producer=[]\n",
    "for b in range(len(a[\"nodes\"])-1) : \n",
    "    temp=[x for x in ei if x[\"id\"]==a[\"nodes\"][b].activity_datapackage_id]\n",
    "    nodes_names.append(temp)\n",
    "for c in range(len(a[\"edges\"])-1) : \n",
    "    consumer_name=[x for x in ei if x[\"id\"]==a[\"edges\"][c].consumer_index]\n",
    "    producer_name=[x for x in ei if x[\"id\"]==a[\"edges\"][c].producer_index]\n",
    "    edges_consumer_producer.append([consumer_name, producer_name])\n"
   ]
  },
  {
   "cell_type": "code",
   "execution_count": 91,
   "metadata": {},
   "outputs": [
    {
     "data": {
      "text/plain": [
       "[['electricity production, hard coal' (kilowatt hour, DE, None)],\n",
       " ['market for hard coal' (kilogram, Europe, without Russia and Turkey, None)],\n",
       " ['hard coal, import from RLA' (kilogram, Europe, without Russia and Turkey, None)],\n",
       " ['hard coal mine operation and hard coal preparation' (kilogram, Europe, without Russia and Turkey, None)],\n",
       " ['hard coal, import from RNA' (kilogram, Europe, without Russia and Turkey, None)],\n",
       " ['hard coal, import from RU' (kilogram, Europe, without Russia and Turkey, None)],\n",
       " ['market for hard coal' (kilogram, RU, None)],\n",
       " ['hard coal mine operation and hard coal preparation' (kilogram, RU, None)]]"
      ]
     },
     "execution_count": 91,
     "metadata": {},
     "output_type": "execute_result"
    }
   ],
   "source": [
    "nodes_names"
   ]
  },
  {
   "cell_type": "code",
   "execution_count": 92,
   "metadata": {},
   "outputs": [
    {
     "data": {
      "text/plain": [
       "[[[], ['bale loading' (unit, CH, None)]],\n",
       " [['bale loading' (unit, CH, None)], []],\n",
       " [[], []],\n",
       " [[], ['land use change, perennial crop' (hectare, BR-MS, None)]],\n",
       " [[], ['market for transport, passenger car' (kilometer, RoW, None)]],\n",
       " [[], ['market for waste glass' (kilogram, LV, None)]],\n",
       " [['market for waste glass' (kilogram, LV, None)],\n",
       "  ['treatment of waste polyvinylchloride, municipal incineration with fly ash extraction' (megajoule, CH, None)]]]"
      ]
     },
     "execution_count": 92,
     "metadata": {},
     "output_type": "execute_result"
    }
   ],
   "source": [
    "edges_consumer_producer"
   ]
  },
  {
   "cell_type": "code",
   "execution_count": 86,
   "metadata": {},
   "outputs": [
    {
     "data": {
      "text/plain": [
       "['electricity production, hard coal' (kilowatt hour, DE, None)]"
      ]
     },
     "execution_count": 86,
     "metadata": {},
     "output_type": "execute_result"
    }
   ],
   "source": [
    "[x for x in ei if x[\"id\"]==a[\"nodes\"][0].activity_datapackage_id]"
   ]
  },
  {
   "cell_type": "code",
   "execution_count": 73,
   "metadata": {},
   "outputs": [
    {
     "name": "stdout",
     "output_type": "stream",
     "text": [
      "-1\n",
      "0\n",
      "1\n",
      "2\n",
      "3\n",
      "4\n",
      "5\n",
      "6\n",
      "7\n"
     ]
    },
    {
     "data": {
      "text/plain": [
       "[None, None, None, None, None, None, None, None, None]"
      ]
     },
     "execution_count": 73,
     "metadata": {},
     "output_type": "execute_result"
    }
   ],
   "source": [
    "[print(b) for b in a[\"nodes\"]]"
   ]
  },
  {
   "cell_type": "code",
   "execution_count": null,
   "metadata": {},
   "outputs": [
    {
     "ename": "AttributeError",
     "evalue": "'SQLiteBackend' object has no attribute 'get_node'",
     "output_type": "error",
     "traceback": [
      "\u001b[0;31m---------------------------------------------------------------------------\u001b[0m",
      "\u001b[0;31mAttributeError\u001b[0m                            Traceback (most recent call last)",
      "Cell \u001b[0;32mIn[65], line 1\u001b[0m\n\u001b[0;32m----> 1\u001b[0m \u001b[43mei\u001b[49m\u001b[38;5;241;43m.\u001b[39;49m\u001b[43mget_node\u001b[49m(\u001b[38;5;28mid\u001b[39m\u001b[38;5;241m=\u001b[39m\u001b[38;5;124m\"\u001b[39m\u001b[38;5;124m21734\u001b[39m\u001b[38;5;124m\"\u001b[39m)\n",
      "\u001b[0;31mAttributeError\u001b[0m: 'SQLiteBackend' object has no attribute 'get_node'"
     ]
    }
   ],
   "source": []
  }
 ],
 "metadata": {
  "kernelspec": {
   "display_name": "Python [conda env:bw25update]",
   "language": "python",
   "name": "conda-env-bw25update-py"
  },
  "language_info": {
   "codemirror_mode": {
    "name": "ipython",
    "version": 3
   },
   "file_extension": ".py",
   "mimetype": "text/x-python",
   "name": "python",
   "nbconvert_exporter": "python",
   "pygments_lexer": "ipython3",
   "version": "3.12.3"
  }
 },
 "nbformat": 4,
 "nbformat_minor": 2
}
